{
 "cells": [
  {
   "cell_type": "code",
   "execution_count": 65,
   "metadata": {},
   "outputs": [],
   "source": [
    "import json\n",
    "import pandas as pd                \n",
    "from pandas import DataFrame"
   ]
  },
  {
   "cell_type": "code",
   "execution_count": 152,
   "metadata": {},
   "outputs": [],
   "source": [
    "with open('/home/jaimoto/Descargas/archivo 1.json') as f:\n",
    "  data = json.load(f)\n",
    "\n",
    "with open('/home/jaimoto/Descargas/archivo 2.json') as f:\n",
    "  data2 = json.load(f)\n",
    "#print(data)"
   ]
  },
  {
   "cell_type": "code",
   "execution_count": 153,
   "metadata": {},
   "outputs": [],
   "source": [
    "data_string = json.dumps(data)\n",
    "decoded = json.loads(data_string)\n",
    "\n",
    "data_string2 = json.dumps(data2)\n",
    "decoded2 = json.loads(data_string2)\n"
   ]
  },
  {
   "cell_type": "code",
   "execution_count": 95,
   "metadata": {},
   "outputs": [
    {
     "data": {
      "text/plain": [
       "dict"
      ]
     },
     "execution_count": 95,
     "metadata": {},
     "output_type": "execute_result"
    }
   ],
   "source": [
    "type(decoded)"
   ]
  },
  {
   "cell_type": "code",
   "execution_count": 93,
   "metadata": {},
   "outputs": [
    {
     "data": {
      "text/plain": [
       "[{'addressId': '2762962', 'addressValue': 'AVDA. PERU 880'},\n",
       " {'addressId': '2858509', 'addressValue': 'AVDA. PERU 880'},\n",
       " {'addressId': '2844005', 'addressValue': 'AVDA. PERU 880 DEPTO 1001'},\n",
       " {'addressId': '2843934', 'addressValue': 'AVDA. PERU 880 DEPTO 201'},\n",
       " {'addressId': '2843935', 'addressValue': 'AVDA. PERU 880 DEPTO 202'},\n",
       " {'addressId': '2843936', 'addressValue': 'AVDA. PERU 880 DEPTO 203'},\n",
       " {'addressId': '2843937', 'addressValue': 'AVDA. PERU 880 DEPTO 204'},\n",
       " {'addressId': '2843938', 'addressValue': 'AVDA. PERU 880 DEPTO 205'},\n",
       " {'addressId': '2843939', 'addressValue': 'AVDA. PERU 880 DEPTO 206'},\n",
       " {'addressId': '2843940', 'addressValue': 'AVDA. PERU 880 DEPTO 207'},\n",
       " {'addressId': '2843941', 'addressValue': 'AVDA. PERU 880 DEPTO 208'},\n",
       " {'addressId': '2843942', 'addressValue': 'AVDA. PERU 880 DEPTO 301'},\n",
       " {'addressId': '2843943', 'addressValue': 'AVDA. PERU 880 DEPTO 302'},\n",
       " {'addressId': '2843944', 'addressValue': 'AVDA. PERU 880 DEPTO 303'},\n",
       " {'addressId': '2843945', 'addressValue': 'AVDA. PERU 880 DEPTO 304'},\n",
       " {'addressId': '2843946', 'addressValue': 'AVDA. PERU 880 DEPTO 305'},\n",
       " {'addressId': '2843947', 'addressValue': 'AVDA. PERU 880 DEPTO 306'},\n",
       " {'addressId': '2843948', 'addressValue': 'AVDA. PERU 880 DEPTO 307'},\n",
       " {'addressId': '2843949', 'addressValue': 'AVDA. PERU 880 DEPTO 308'},\n",
       " {'addressId': '2843950', 'addressValue': 'AVDA. PERU 880 DEPTO 309'},\n",
       " {'addressId': '2843951', 'addressValue': 'AVDA. PERU 880 DEPTO 401'},\n",
       " {'addressId': '2843952', 'addressValue': 'AVDA. PERU 880 DEPTO 402'},\n",
       " {'addressId': '2843953', 'addressValue': 'AVDA. PERU 880 DEPTO 403'},\n",
       " {'addressId': '2843954', 'addressValue': 'AVDA. PERU 880 DEPTO 404'},\n",
       " {'addressId': '2843955', 'addressValue': 'AVDA. PERU 880 DEPTO 405'},\n",
       " {'addressId': '2843956', 'addressValue': 'AVDA. PERU 880 DEPTO 406'},\n",
       " {'addressId': '2843957', 'addressValue': 'AVDA. PERU 880 DEPTO 407'},\n",
       " {'addressId': '2843958', 'addressValue': 'AVDA. PERU 880 DEPTO 408'},\n",
       " {'addressId': '2843959', 'addressValue': 'AVDA. PERU 880 DEPTO 409'},\n",
       " {'addressId': '2843960', 'addressValue': 'AVDA. PERU 880 DEPTO 501'},\n",
       " {'addressId': '2843961', 'addressValue': 'AVDA. PERU 880 DEPTO 502'},\n",
       " {'addressId': '2843962', 'addressValue': 'AVDA. PERU 880 DEPTO 503'},\n",
       " {'addressId': '2843963', 'addressValue': 'AVDA. PERU 880 DEPTO 504'},\n",
       " {'addressId': '2843964', 'addressValue': 'AVDA. PERU 880 DEPTO 505'},\n",
       " {'addressId': '2843965', 'addressValue': 'AVDA. PERU 880 DEPTO 506'},\n",
       " {'addressId': '2843966', 'addressValue': 'AVDA. PERU 880 DEPTO 507'},\n",
       " {'addressId': '2843967', 'addressValue': 'AVDA. PERU 880 DEPTO 508'},\n",
       " {'addressId': '2843968', 'addressValue': 'AVDA. PERU 880 DEPTO 509'},\n",
       " {'addressId': '2843969', 'addressValue': 'AVDA. PERU 880 DEPTO 601'},\n",
       " {'addressId': '2843970', 'addressValue': 'AVDA. PERU 880 DEPTO 602'},\n",
       " {'addressId': '2843971', 'addressValue': 'AVDA. PERU 880 DEPTO 603'},\n",
       " {'addressId': '2843972', 'addressValue': 'AVDA. PERU 880 DEPTO 604'},\n",
       " {'addressId': '2843973', 'addressValue': 'AVDA. PERU 880 DEPTO 605'},\n",
       " {'addressId': '2843974', 'addressValue': 'AVDA. PERU 880 DEPTO 606'},\n",
       " {'addressId': '2843975', 'addressValue': 'AVDA. PERU 880 DEPTO 607'},\n",
       " {'addressId': '2843976', 'addressValue': 'AVDA. PERU 880 DEPTO 608'},\n",
       " {'addressId': '2843977', 'addressValue': 'AVDA. PERU 880 DEPTO 609'},\n",
       " {'addressId': '2843978', 'addressValue': 'AVDA. PERU 880 DEPTO 701'},\n",
       " {'addressId': '2843979', 'addressValue': 'AVDA. PERU 880 DEPTO 702'},\n",
       " {'addressId': '2843980', 'addressValue': 'AVDA. PERU 880 DEPTO 703'},\n",
       " {'addressId': '2843981', 'addressValue': 'AVDA. PERU 880 DEPTO 704'},\n",
       " {'addressId': '2843982', 'addressValue': 'AVDA. PERU 880 DEPTO 705'},\n",
       " {'addressId': '2843983', 'addressValue': 'AVDA. PERU 880 DEPTO 706'},\n",
       " {'addressId': '2843984', 'addressValue': 'AVDA. PERU 880 DEPTO 707'},\n",
       " {'addressId': '2843985', 'addressValue': 'AVDA. PERU 880 DEPTO 708'},\n",
       " {'addressId': '2843986', 'addressValue': 'AVDA. PERU 880 DEPTO 709'},\n",
       " {'addressId': '2843987', 'addressValue': 'AVDA. PERU 880 DEPTO 801'},\n",
       " {'addressId': '2843988', 'addressValue': 'AVDA. PERU 880 DEPTO 802'},\n",
       " {'addressId': '2843989', 'addressValue': 'AVDA. PERU 880 DEPTO 803'},\n",
       " {'addressId': '2843990', 'addressValue': 'AVDA. PERU 880 DEPTO 804'},\n",
       " {'addressId': '2843991', 'addressValue': 'AVDA. PERU 880 DEPTO 805'},\n",
       " {'addressId': '2843992', 'addressValue': 'AVDA. PERU 880 DEPTO 806'},\n",
       " {'addressId': '2843993', 'addressValue': 'AVDA. PERU 880 DEPTO 807'},\n",
       " {'addressId': '2843994', 'addressValue': 'AVDA. PERU 880 DEPTO 808'},\n",
       " {'addressId': '2843995', 'addressValue': 'AVDA. PERU 880 DEPTO 809'},\n",
       " {'addressId': '2843996', 'addressValue': 'AVDA. PERU 880 DEPTO 901'},\n",
       " {'addressId': '2843998', 'addressValue': 'AVDA. PERU 880 DEPTO 903'},\n",
       " {'addressId': '2843999', 'addressValue': 'AVDA. PERU 880 DEPTO 904'},\n",
       " {'addressId': '2844000', 'addressValue': 'AVDA. PERU 880 DEPTO 905'},\n",
       " {'addressId': '2844001', 'addressValue': 'AVDA. PERU 880 DEPTO 906'},\n",
       " {'addressId': '2844002', 'addressValue': 'AVDA. PERU 880 DEPTO 907'},\n",
       " {'addressId': '2844003', 'addressValue': 'AVDA. PERU 880 DEPTO 908'}]"
      ]
     },
     "execution_count": 93,
     "metadata": {},
     "output_type": "execute_result"
    }
   ],
   "source": [
    "decoded[\"addressList\"]"
   ]
  },
  {
   "cell_type": "code",
   "execution_count": 96,
   "metadata": {},
   "outputs": [
    {
     "data": {
      "text/plain": [
       "list"
      ]
     },
     "execution_count": 96,
     "metadata": {},
     "output_type": "execute_result"
    }
   ],
   "source": [
    "type(decoded[\"addressList\"])"
   ]
  },
  {
   "cell_type": "code",
   "execution_count": 154,
   "metadata": {},
   "outputs": [],
   "source": [
    "df1 = pd.DataFrame(decoded[\"addressList\"]) \n",
    "df2 = pd.DataFrame(decoded2[\"addressList\"]) "
   ]
  },
  {
   "cell_type": "code",
   "execution_count": 160,
   "metadata": {},
   "outputs": [
    {
     "data": {
      "text/plain": [
       "0                AVDA. PERU 880\n",
       "1                AVDA. PERU 880\n",
       "2     AVDA. PERU 880 DEPTO 1001\n",
       "3      AVDA. PERU 880 DEPTO 201\n",
       "4      AVDA. PERU 880 DEPTO 202\n",
       "                ...            \n",
       "67     AVDA. PERU 880 DEPTO 904\n",
       "68     AVDA. PERU 880 DEPTO 905\n",
       "69     AVDA. PERU 880 DEPTO 906\n",
       "70     AVDA. PERU 880 DEPTO 907\n",
       "71     AVDA. PERU 880 DEPTO 908\n",
       "Name: addressValue, Length: 72, dtype: object"
      ]
     },
     "execution_count": 160,
     "metadata": {},
     "output_type": "execute_result"
    }
   ],
   "source": [
    "df1.addressValue"
   ]
  },
  {
   "cell_type": "code",
   "execution_count": 156,
   "metadata": {},
   "outputs": [],
   "source": [
    "new1 = df1[\"addressValue\"].str.split(\" \", n = 4, expand = True) \n",
    "new2 = df2[\"addressValue\"].str.split(\" \", n = 4, expand = True) "
   ]
  },
  {
   "cell_type": "code",
   "execution_count": 162,
   "metadata": {},
   "outputs": [],
   "source": [
    "df1[\"depto\"]=new1[4]\n",
    "df2[\"depto\"]=new2[4]"
   ]
  },
  {
   "cell_type": "code",
   "execution_count": 163,
   "metadata": {},
   "outputs": [
    {
     "data": {
      "text/html": [
       "<div>\n",
       "<style scoped>\n",
       "    .dataframe tbody tr th:only-of-type {\n",
       "        vertical-align: middle;\n",
       "    }\n",
       "\n",
       "    .dataframe tbody tr th {\n",
       "        vertical-align: top;\n",
       "    }\n",
       "\n",
       "    .dataframe thead th {\n",
       "        text-align: right;\n",
       "    }\n",
       "</style>\n",
       "<table border=\"1\" class=\"dataframe\">\n",
       "  <thead>\n",
       "    <tr style=\"text-align: right;\">\n",
       "      <th></th>\n",
       "      <th>addressId</th>\n",
       "      <th>addressValue</th>\n",
       "      <th>depto</th>\n",
       "    </tr>\n",
       "  </thead>\n",
       "  <tbody>\n",
       "    <tr>\n",
       "      <th>0</th>\n",
       "      <td>2762962</td>\n",
       "      <td>AVDA. PERU 880</td>\n",
       "      <td>None</td>\n",
       "    </tr>\n",
       "    <tr>\n",
       "      <th>1</th>\n",
       "      <td>2858509</td>\n",
       "      <td>AVDA. PERU 880</td>\n",
       "      <td>None</td>\n",
       "    </tr>\n",
       "    <tr>\n",
       "      <th>2</th>\n",
       "      <td>2844005</td>\n",
       "      <td>AVDA. PERU 880 DEPTO 1001</td>\n",
       "      <td>1001</td>\n",
       "    </tr>\n",
       "    <tr>\n",
       "      <th>3</th>\n",
       "      <td>2843934</td>\n",
       "      <td>AVDA. PERU 880 DEPTO 201</td>\n",
       "      <td>201</td>\n",
       "    </tr>\n",
       "    <tr>\n",
       "      <th>4</th>\n",
       "      <td>2843935</td>\n",
       "      <td>AVDA. PERU 880 DEPTO 202</td>\n",
       "      <td>202</td>\n",
       "    </tr>\n",
       "    <tr>\n",
       "      <th>...</th>\n",
       "      <td>...</td>\n",
       "      <td>...</td>\n",
       "      <td>...</td>\n",
       "    </tr>\n",
       "    <tr>\n",
       "      <th>67</th>\n",
       "      <td>2843999</td>\n",
       "      <td>AVDA. PERU 880 DEPTO 904</td>\n",
       "      <td>904</td>\n",
       "    </tr>\n",
       "    <tr>\n",
       "      <th>68</th>\n",
       "      <td>2844000</td>\n",
       "      <td>AVDA. PERU 880 DEPTO 905</td>\n",
       "      <td>905</td>\n",
       "    </tr>\n",
       "    <tr>\n",
       "      <th>69</th>\n",
       "      <td>2844001</td>\n",
       "      <td>AVDA. PERU 880 DEPTO 906</td>\n",
       "      <td>906</td>\n",
       "    </tr>\n",
       "    <tr>\n",
       "      <th>70</th>\n",
       "      <td>2844002</td>\n",
       "      <td>AVDA. PERU 880 DEPTO 907</td>\n",
       "      <td>907</td>\n",
       "    </tr>\n",
       "    <tr>\n",
       "      <th>71</th>\n",
       "      <td>2844003</td>\n",
       "      <td>AVDA. PERU 880 DEPTO 908</td>\n",
       "      <td>908</td>\n",
       "    </tr>\n",
       "  </tbody>\n",
       "</table>\n",
       "<p>72 rows × 3 columns</p>\n",
       "</div>"
      ],
      "text/plain": [
       "   addressId               addressValue depto\n",
       "0    2762962             AVDA. PERU 880  None\n",
       "1    2858509             AVDA. PERU 880  None\n",
       "2    2844005  AVDA. PERU 880 DEPTO 1001  1001\n",
       "3    2843934   AVDA. PERU 880 DEPTO 201   201\n",
       "4    2843935   AVDA. PERU 880 DEPTO 202   202\n",
       "..       ...                        ...   ...\n",
       "67   2843999   AVDA. PERU 880 DEPTO 904   904\n",
       "68   2844000   AVDA. PERU 880 DEPTO 905   905\n",
       "69   2844001   AVDA. PERU 880 DEPTO 906   906\n",
       "70   2844002   AVDA. PERU 880 DEPTO 907   907\n",
       "71   2844003   AVDA. PERU 880 DEPTO 908   908\n",
       "\n",
       "[72 rows x 3 columns]"
      ]
     },
     "execution_count": 163,
     "metadata": {},
     "output_type": "execute_result"
    }
   ],
   "source": [
    "df1"
   ]
  },
  {
   "cell_type": "code",
   "execution_count": 164,
   "metadata": {},
   "outputs": [
    {
     "data": {
      "text/html": [
       "<div>\n",
       "<style scoped>\n",
       "    .dataframe tbody tr th:only-of-type {\n",
       "        vertical-align: middle;\n",
       "    }\n",
       "\n",
       "    .dataframe tbody tr th {\n",
       "        vertical-align: top;\n",
       "    }\n",
       "\n",
       "    .dataframe thead th {\n",
       "        text-align: right;\n",
       "    }\n",
       "</style>\n",
       "<table border=\"1\" class=\"dataframe\">\n",
       "  <thead>\n",
       "    <tr style=\"text-align: right;\">\n",
       "      <th></th>\n",
       "      <th>addressId</th>\n",
       "      <th>addressValue</th>\n",
       "      <th>depto</th>\n",
       "    </tr>\n",
       "  </thead>\n",
       "  <tbody>\n",
       "    <tr>\n",
       "      <th>0</th>\n",
       "      <td>2844006</td>\n",
       "      <td>AV PERU 880 D/ 1002</td>\n",
       "      <td>1002</td>\n",
       "    </tr>\n",
       "    <tr>\n",
       "      <th>1</th>\n",
       "      <td>2844007</td>\n",
       "      <td>AV PERU 880 D/ 1003</td>\n",
       "      <td>1003</td>\n",
       "    </tr>\n",
       "    <tr>\n",
       "      <th>2</th>\n",
       "      <td>2844008</td>\n",
       "      <td>AV PERU 880 D/ 1004</td>\n",
       "      <td>1004</td>\n",
       "    </tr>\n",
       "    <tr>\n",
       "      <th>3</th>\n",
       "      <td>2844009</td>\n",
       "      <td>AV PERU 880 D/ 1005</td>\n",
       "      <td>1005</td>\n",
       "    </tr>\n",
       "    <tr>\n",
       "      <th>4</th>\n",
       "      <td>2844010</td>\n",
       "      <td>AV PERU 880 D/ 1006</td>\n",
       "      <td>1006</td>\n",
       "    </tr>\n",
       "    <tr>\n",
       "      <th>...</th>\n",
       "      <td>...</td>\n",
       "      <td>...</td>\n",
       "      <td>...</td>\n",
       "    </tr>\n",
       "    <tr>\n",
       "      <th>112</th>\n",
       "      <td>2844119</td>\n",
       "      <td>AV PERU 880 D/ 2207</td>\n",
       "      <td>2207</td>\n",
       "    </tr>\n",
       "    <tr>\n",
       "      <th>113</th>\n",
       "      <td>2844120</td>\n",
       "      <td>AV PERU 880 D/ 2208</td>\n",
       "      <td>2208</td>\n",
       "    </tr>\n",
       "    <tr>\n",
       "      <th>114</th>\n",
       "      <td>2844121</td>\n",
       "      <td>AV PERU 880 D/ 2209</td>\n",
       "      <td>2209</td>\n",
       "    </tr>\n",
       "    <tr>\n",
       "      <th>115</th>\n",
       "      <td>2843997</td>\n",
       "      <td>AV PERU 880 D/ 902</td>\n",
       "      <td>902</td>\n",
       "    </tr>\n",
       "    <tr>\n",
       "      <th>116</th>\n",
       "      <td>2844004</td>\n",
       "      <td>AV PERU 880 D/ 909</td>\n",
       "      <td>909</td>\n",
       "    </tr>\n",
       "  </tbody>\n",
       "</table>\n",
       "<p>117 rows × 3 columns</p>\n",
       "</div>"
      ],
      "text/plain": [
       "    addressId         addressValue depto\n",
       "0     2844006  AV PERU 880 D/ 1002  1002\n",
       "1     2844007  AV PERU 880 D/ 1003  1003\n",
       "2     2844008  AV PERU 880 D/ 1004  1004\n",
       "3     2844009  AV PERU 880 D/ 1005  1005\n",
       "4     2844010  AV PERU 880 D/ 1006  1006\n",
       "..        ...                  ...   ...\n",
       "112   2844119  AV PERU 880 D/ 2207  2207\n",
       "113   2844120  AV PERU 880 D/ 2208  2208\n",
       "114   2844121  AV PERU 880 D/ 2209  2209\n",
       "115   2843997   AV PERU 880 D/ 902   902\n",
       "116   2844004   AV PERU 880 D/ 909   909\n",
       "\n",
       "[117 rows x 3 columns]"
      ]
     },
     "execution_count": 164,
     "metadata": {},
     "output_type": "execute_result"
    }
   ],
   "source": [
    "df2"
   ]
  },
  {
   "cell_type": "code",
   "execution_count": 167,
   "metadata": {},
   "outputs": [],
   "source": [
    "df3 = pd.concat([df1, df2], axis=0)"
   ]
  },
  {
   "cell_type": "code",
   "execution_count": 168,
   "metadata": {},
   "outputs": [
    {
     "data": {
      "text/html": [
       "<div>\n",
       "<style scoped>\n",
       "    .dataframe tbody tr th:only-of-type {\n",
       "        vertical-align: middle;\n",
       "    }\n",
       "\n",
       "    .dataframe tbody tr th {\n",
       "        vertical-align: top;\n",
       "    }\n",
       "\n",
       "    .dataframe thead th {\n",
       "        text-align: right;\n",
       "    }\n",
       "</style>\n",
       "<table border=\"1\" class=\"dataframe\">\n",
       "  <thead>\n",
       "    <tr style=\"text-align: right;\">\n",
       "      <th></th>\n",
       "      <th>addressId</th>\n",
       "      <th>addressValue</th>\n",
       "      <th>depto</th>\n",
       "    </tr>\n",
       "  </thead>\n",
       "  <tbody>\n",
       "    <tr>\n",
       "      <th>0</th>\n",
       "      <td>2762962</td>\n",
       "      <td>AVDA. PERU 880</td>\n",
       "      <td>None</td>\n",
       "    </tr>\n",
       "    <tr>\n",
       "      <th>1</th>\n",
       "      <td>2858509</td>\n",
       "      <td>AVDA. PERU 880</td>\n",
       "      <td>None</td>\n",
       "    </tr>\n",
       "    <tr>\n",
       "      <th>2</th>\n",
       "      <td>2844005</td>\n",
       "      <td>AVDA. PERU 880 DEPTO 1001</td>\n",
       "      <td>1001</td>\n",
       "    </tr>\n",
       "    <tr>\n",
       "      <th>3</th>\n",
       "      <td>2843934</td>\n",
       "      <td>AVDA. PERU 880 DEPTO 201</td>\n",
       "      <td>201</td>\n",
       "    </tr>\n",
       "    <tr>\n",
       "      <th>4</th>\n",
       "      <td>2843935</td>\n",
       "      <td>AVDA. PERU 880 DEPTO 202</td>\n",
       "      <td>202</td>\n",
       "    </tr>\n",
       "    <tr>\n",
       "      <th>...</th>\n",
       "      <td>...</td>\n",
       "      <td>...</td>\n",
       "      <td>...</td>\n",
       "    </tr>\n",
       "    <tr>\n",
       "      <th>112</th>\n",
       "      <td>2844119</td>\n",
       "      <td>AV PERU 880 D/ 2207</td>\n",
       "      <td>2207</td>\n",
       "    </tr>\n",
       "    <tr>\n",
       "      <th>113</th>\n",
       "      <td>2844120</td>\n",
       "      <td>AV PERU 880 D/ 2208</td>\n",
       "      <td>2208</td>\n",
       "    </tr>\n",
       "    <tr>\n",
       "      <th>114</th>\n",
       "      <td>2844121</td>\n",
       "      <td>AV PERU 880 D/ 2209</td>\n",
       "      <td>2209</td>\n",
       "    </tr>\n",
       "    <tr>\n",
       "      <th>115</th>\n",
       "      <td>2843997</td>\n",
       "      <td>AV PERU 880 D/ 902</td>\n",
       "      <td>902</td>\n",
       "    </tr>\n",
       "    <tr>\n",
       "      <th>116</th>\n",
       "      <td>2844004</td>\n",
       "      <td>AV PERU 880 D/ 909</td>\n",
       "      <td>909</td>\n",
       "    </tr>\n",
       "  </tbody>\n",
       "</table>\n",
       "<p>189 rows × 3 columns</p>\n",
       "</div>"
      ],
      "text/plain": [
       "    addressId               addressValue depto\n",
       "0     2762962             AVDA. PERU 880  None\n",
       "1     2858509             AVDA. PERU 880  None\n",
       "2     2844005  AVDA. PERU 880 DEPTO 1001  1001\n",
       "3     2843934   AVDA. PERU 880 DEPTO 201   201\n",
       "4     2843935   AVDA. PERU 880 DEPTO 202   202\n",
       "..        ...                        ...   ...\n",
       "112   2844119        AV PERU 880 D/ 2207  2207\n",
       "113   2844120        AV PERU 880 D/ 2208  2208\n",
       "114   2844121        AV PERU 880 D/ 2209  2209\n",
       "115   2843997         AV PERU 880 D/ 902   902\n",
       "116   2844004         AV PERU 880 D/ 909   909\n",
       "\n",
       "[189 rows x 3 columns]"
      ]
     },
     "execution_count": 168,
     "metadata": {},
     "output_type": "execute_result"
    }
   ],
   "source": [
    "df3"
   ]
  },
  {
   "cell_type": "code",
   "execution_count": 172,
   "metadata": {},
   "outputs": [],
   "source": [
    "df3.to_csv ('/home/jaimoto/Descargas/av_peru.csv', index = False, header=True)"
   ]
  }
 ],
 "metadata": {
  "kernelspec": {
   "display_name": "Python 3",
   "language": "python",
   "name": "python3"
  },
  "language_info": {
   "codemirror_mode": {
    "name": "ipython",
    "version": 3
   },
   "file_extension": ".py",
   "mimetype": "text/x-python",
   "name": "python",
   "nbconvert_exporter": "python",
   "pygments_lexer": "ipython3",
   "version": "3.7.7"
  }
 },
 "nbformat": 4,
 "nbformat_minor": 4
}
