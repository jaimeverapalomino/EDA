{
 "cells": [
  {
   "cell_type": "code",
   "execution_count": 2,
   "metadata": {},
   "outputs": [],
   "source": [
    "import pandas as pd\n",
    "from sqlalchemy import create_engine"
   ]
  },
  {
   "cell_type": "code",
   "execution_count": 3,
   "metadata": {},
   "outputs": [],
   "source": [
    "csv_database = create_engine('sqlite:///actecon_database.db')\n",
    "file = \"/home/jaimoto/python codes/Actividad Economica/D00_202001.TXT\"\n",
    "file_CL01 = \"/home/jaimoto/python codes/Actividad Economica/CL01_20200131.TCL\"\n",
    "file_CL22 = \"/home/jaimoto/python codes/Actividad Economica/CL22_20200131.TCL\"\n",
    "file_CN01 = \"/home/jaimoto/python codes/Actividad Economica/CN01_20200131.TCL\""
   ]
  },
  {
   "cell_type": "code",
   "execution_count": 4,
   "metadata": {},
   "outputs": [],
   "source": [
    "df_cl01 = pd.read_csv(file_CL01, encoding = \"ISO-8859-1\", header=0, nrows= 200)\n",
    "df_cl22 = pd.read_csv(file_CL22, encoding = \"ISO-8859-1\", header=0, nrows= 200)\n",
    "df_cn01 = pd.read_csv(file_CN01, encoding = \"ISO-8859-1\", header=0, nrows= 200)   "
   ]
  },
  {
   "cell_type": "code",
   "execution_count": 19,
   "metadata": {},
   "outputs": [],
   "source": [
    "#df_cn_bci = pd.read_csv(\"/home/jaimoto/python codes/Actividad Economica/CN01_20200131.TCL\",usecols=[1,5,6, 7, 15], converters={0:int, 1:int, 2:str,3:str,4:str}, names=[\"periodo\", \"rut_cn\",\"rut\", \"nombre_cn\",\"act_econ_cn\"], sep=',', encoding = \"ISO-8859-1\", header=None, engine='python')\n",
    "#print(df_cn_bci)"
   ]
  },
  {
   "cell_type": "code",
   "execution_count": null,
   "metadata": {},
   "outputs": [],
   "source": [
    "chunksize = 100000\n",
    "i = 0\n",
    "j = 1\n",
    "for df in pd.read_csv(file, encoding = \"ISO-8859-1\", header=0, index_col=False, chunksize=chunksize, iterator=True):\n",
    "      df = df.rename(columns={c: c.replace(' ', '') for c in df.columns}) \n",
    "      df.index += j\n",
    "      i+=1\n",
    "      df.to_sql('D00', csv_database, if_exists='append')\n",
    "      j = df.index[-1] + 1"
   ]
  },
  {
   "cell_type": "code",
   "execution_count": 31,
   "metadata": {},
   "outputs": [
    {
     "name": "stderr",
     "output_type": "stream",
     "text": [
      "/home/jaimoto/anaconda3/lib/python3.7/site-packages/IPython/core/interactiveshell.py:3063: DtypeWarning: Columns (5) have mixed types.Specify dtype option on import or set low_memory=False.\n",
      "  interactivity=interactivity, compiler=compiler, result=result)\n"
     ]
    }
   ],
   "source": [
    "chunksize = 100000\n",
    "i = 0\n",
    "j = 1\n",
    "for df in pd.read_csv(file_CL01, encoding = \"ISO-8859-1\", header=None, index_col=False, usecols=[1,5,6, 7, 15], converters={0:int, 1:int, 2:str,3:str,4:str}, chunksize=chunksize, iterator=True):\n",
    "      #df = df.rename(columns={c: c.replace(' ', '') for c in df.columns}) \n",
    "      df.index += j\n",
    "      i+=1\n",
    "      df.to_sql('CL01', csv_database, if_exists='append')\n",
    "      j = df.index[-1] + 1"
   ]
  },
  {
   "cell_type": "code",
   "execution_count": 32,
   "metadata": {},
   "outputs": [],
   "source": [
    "chunksize = 100000\n",
    "i = 0\n",
    "j = 1\n",
    "for df in pd.read_csv(file_CN01, encoding = \"ISO-8859-1\", header=None, index_col=False, usecols=[1,5,6, 7, 15], converters={0:int, 1:int, 2:str,3:str,4:str}, chunksize=chunksize, iterator=True):\n",
    "      #df = df.rename(columns={c: c.replace(' ', '') for c in df.columns}) \n",
    "      df.index += j\n",
    "      i+=1\n",
    "      df.to_sql('CN01', csv_database, if_exists='append')\n",
    "      j = df.index[-1] + 1"
   ]
  },
  {
   "cell_type": "code",
   "execution_count": 33,
   "metadata": {},
   "outputs": [],
   "source": [
    "chunksize = 100000\n",
    "i = 0\n",
    "j = 1\n",
    "for df in pd.read_csv(file_CL22, encoding = \"ISO-8859-1\", header=None, index_col=False, usecols=[1,5,6, 7, 15], converters={0:int, 1:int, 2:str,3:str,4:str}, chunksize=chunksize, iterator=True):\n",
    "      #df = df.rename(columns={c: c.replace(' ', '') for c in df.columns}) \n",
    "      df.index += j\n",
    "      i+=1\n",
    "      df.to_sql('CL22', csv_database, if_exists='append')\n",
    "      j = df.index[-1] + 1"
   ]
  },
  {
   "cell_type": "code",
   "execution_count": 43,
   "metadata": {},
   "outputs": [],
   "source": [
    "#CREATE TABLE D00_2(ID integer PRIMARY KEY AUTOINCREMENT, rut INT NULL, digito TEXT NULL, act_Econ TEXT NULL);"
   ]
  },
  {
   "cell_type": "code",
   "execution_count": 37,
   "metadata": {},
   "outputs": [],
   "source": [
    "#df = pd.read_sql_query('INSERT INTO D00_2 (rut, digito, act_Econ) SELECT substr(data,391, 9), substr(data,400, 1), substr(data,39, 2) FROM D00;', csv_database)\n",
    "#df"
   ]
  },
  {
   "cell_type": "code",
   "execution_count": 38,
   "metadata": {},
   "outputs": [
    {
     "data": {
      "text/html": [
       "<div>\n",
       "<style scoped>\n",
       "    .dataframe tbody tr th:only-of-type {\n",
       "        vertical-align: middle;\n",
       "    }\n",
       "\n",
       "    .dataframe tbody tr th {\n",
       "        vertical-align: top;\n",
       "    }\n",
       "\n",
       "    .dataframe thead th {\n",
       "        text-align: right;\n",
       "    }\n",
       "</style>\n",
       "<table border=\"1\" class=\"dataframe\">\n",
       "  <thead>\n",
       "    <tr style=\"text-align: right;\">\n",
       "      <th></th>\n",
       "      <th>ID</th>\n",
       "      <th>rut</th>\n",
       "      <th>digito</th>\n",
       "      <th>act_Econ</th>\n",
       "    </tr>\n",
       "  </thead>\n",
       "  <tbody>\n",
       "    <tr>\n",
       "      <th>0</th>\n",
       "      <td>1</td>\n",
       "      <td>11612799</td>\n",
       "      <td>7</td>\n",
       "      <td>01</td>\n",
       "    </tr>\n",
       "    <tr>\n",
       "      <th>1</th>\n",
       "      <td>2</td>\n",
       "      <td>10540253</td>\n",
       "      <td>8</td>\n",
       "      <td>01</td>\n",
       "    </tr>\n",
       "    <tr>\n",
       "      <th>2</th>\n",
       "      <td>3</td>\n",
       "      <td>7442119</td>\n",
       "      <td>9</td>\n",
       "      <td>61</td>\n",
       "    </tr>\n",
       "    <tr>\n",
       "      <th>3</th>\n",
       "      <td>4</td>\n",
       "      <td>26770497</td>\n",
       "      <td>K</td>\n",
       "      <td>01</td>\n",
       "    </tr>\n",
       "    <tr>\n",
       "      <th>4</th>\n",
       "      <td>5</td>\n",
       "      <td>7402435</td>\n",
       "      <td>1</td>\n",
       "      <td>61</td>\n",
       "    </tr>\n",
       "    <tr>\n",
       "      <th>5</th>\n",
       "      <td>6</td>\n",
       "      <td>5135940</td>\n",
       "      <td>2</td>\n",
       "      <td>01</td>\n",
       "    </tr>\n",
       "    <tr>\n",
       "      <th>6</th>\n",
       "      <td>7</td>\n",
       "      <td>14655187</td>\n",
       "      <td>4</td>\n",
       "      <td>61</td>\n",
       "    </tr>\n",
       "    <tr>\n",
       "      <th>7</th>\n",
       "      <td>8</td>\n",
       "      <td>12582539</td>\n",
       "      <td>7</td>\n",
       "      <td>61</td>\n",
       "    </tr>\n",
       "    <tr>\n",
       "      <th>8</th>\n",
       "      <td>9</td>\n",
       "      <td>13612057</td>\n",
       "      <td>3</td>\n",
       "      <td>01</td>\n",
       "    </tr>\n",
       "    <tr>\n",
       "      <th>9</th>\n",
       "      <td>10</td>\n",
       "      <td>14535571</td>\n",
       "      <td>0</td>\n",
       "      <td>61</td>\n",
       "    </tr>\n",
       "  </tbody>\n",
       "</table>\n",
       "</div>"
      ],
      "text/plain": [
       "   ID       rut digito act_Econ\n",
       "0   1  11612799      7       01\n",
       "1   2  10540253      8       01\n",
       "2   3   7442119      9       61\n",
       "3   4  26770497      K       01\n",
       "4   5   7402435      1       61\n",
       "5   6   5135940      2       01\n",
       "6   7  14655187      4       61\n",
       "7   8  12582539      7       61\n",
       "8   9  13612057      3       01\n",
       "9  10  14535571      0       61"
      ]
     },
     "execution_count": 38,
     "metadata": {},
     "output_type": "execute_result"
    }
   ],
   "source": [
    "df = pd.read_sql_query('select * from D00_2 limit 10;', csv_database)\n",
    "df"
   ]
  },
  {
   "cell_type": "code",
   "execution_count": 70,
   "metadata": {},
   "outputs": [
    {
     "data": {
      "text/html": [
       "<div>\n",
       "<style scoped>\n",
       "    .dataframe tbody tr th:only-of-type {\n",
       "        vertical-align: middle;\n",
       "    }\n",
       "\n",
       "    .dataframe tbody tr th {\n",
       "        vertical-align: top;\n",
       "    }\n",
       "\n",
       "    .dataframe thead th {\n",
       "        text-align: right;\n",
       "    }\n",
       "</style>\n",
       "<table border=\"1\" class=\"dataframe\">\n",
       "  <thead>\n",
       "    <tr style=\"text-align: right;\">\n",
       "      <th></th>\n",
       "      <th>rut_D00</th>\n",
       "      <th>digito_D00</th>\n",
       "      <th>act_econ_D00</th>\n",
       "      <th>rut_CL01</th>\n",
       "      <th>nom_cli_CL01</th>\n",
       "      <th>act_econ_CL01</th>\n",
       "    </tr>\n",
       "  </thead>\n",
       "  <tbody>\n",
       "  </tbody>\n",
       "</table>\n",
       "</div>"
      ],
      "text/plain": [
       "Empty DataFrame\n",
       "Columns: [rut_D00, digito_D00, act_econ_D00, rut_CL01, nom_cli_CL01, act_econ_CL01]\n",
       "Index: []"
      ]
     },
     "execution_count": 70,
     "metadata": {},
     "output_type": "execute_result"
    }
   ],
   "source": [
    "df = pd.read_sql_query('select a.rut as rut_D00, a.digito as digito_D00, a.act_Econ as act_econ_D00, b.\"5\" as rut_CL01, b.\"7\" as nom_cli_CL01, b.\"15\" as act_econ_CL01  \\\n",
    "                       from D00_2 a  \\\n",
    "                       inner join CL22 b on a.rut = b.\"5\" and a.act_Econ = b.\"15\";' , csv_database)  #and a.act_Econ = b.\"15\"\n",
    "\n",
    "df"
   ]
  },
  {
   "cell_type": "code",
   "execution_count": 68,
   "metadata": {},
   "outputs": [],
   "source": [
    "df.to_csv ('D00 vs CL01.csv', index = False, header=True)"
   ]
  },
  {
   "cell_type": "code",
   "execution_count": 1,
   "metadata": {},
   "outputs": [
    {
     "ename": "NameError",
     "evalue": "name 'pd' is not defined",
     "output_type": "error",
     "traceback": [
      "\u001b[0;31m---------------------------------------------------------------------------\u001b[0m",
      "\u001b[0;31mNameError\u001b[0m                                 Traceback (most recent call last)",
      "\u001b[0;32m<ipython-input-1-0cfe50e8cac6>\u001b[0m in \u001b[0;36m<module>\u001b[0;34m\u001b[0m\n\u001b[0;32m----> 1\u001b[0;31m df = pd.read_sql_query('select a.rut as rut_D00, a.digito as digito_D00, a.act_Econ as act_econ_D00, b.\"5\" as rut_CL01, b.\"7\" as nom_cli_CL01, b.\"15\" as act_econ_CN01  \\\n\u001b[0m\u001b[1;32m      2\u001b[0m                        \u001b[0;32mfrom\u001b[0m \u001b[0mD00_2\u001b[0m \u001b[0ma\u001b[0m\u001b[0;31m \u001b[0m\u001b[0;31m \u001b[0m\u001b[0;31m\\\u001b[0m\u001b[0;34m\u001b[0m\u001b[0;34m\u001b[0m\u001b[0m\n\u001b[1;32m      3\u001b[0m                        inner join CL22 b on a.rut = b.\"5\" and a.act_Econ = b.\"15\";' , csv_database)  #and a.act_Econ = b.\"15\"\n\u001b[1;32m      4\u001b[0m \u001b[0;34m\u001b[0m\u001b[0m\n\u001b[1;32m      5\u001b[0m \u001b[0mdf\u001b[0m\u001b[0;34m\u001b[0m\u001b[0;34m\u001b[0m\u001b[0m\n",
      "\u001b[0;31mNameError\u001b[0m: name 'pd' is not defined"
     ]
    }
   ],
   "source": [
    "df = pd.read_sql_query('select a.rut as rut_D00, a.digito as digito_D00, a.act_Econ as act_econ_D00, b.\"5\" as rut_CL01, b.\"7\" as nom_cli_CL01, b.\"15\" as act_econ_CN01  \\\n",
    "                       from D00_2 a  \\\n",
    "                       inner join CL22 b on a.rut = b.\"5\" and a.act_Econ = b.\"15\";' , csv_database)  #and a.act_Econ = b.\"15\"\n",
    "\n",
    "df"
   ]
  },
  {
   "cell_type": "code",
   "execution_count": null,
   "metadata": {},
   "outputs": [],
   "source": []
  }
 ],
 "metadata": {
  "kernelspec": {
   "display_name": "Python 3",
   "language": "python",
   "name": "python3"
  },
  "language_info": {
   "codemirror_mode": {
    "name": "ipython",
    "version": 3
   },
   "file_extension": ".py",
   "mimetype": "text/x-python",
   "name": "python",
   "nbconvert_exporter": "python",
   "pygments_lexer": "ipython3",
   "version": "3.7.7"
  }
 },
 "nbformat": 4,
 "nbformat_minor": 4
}
